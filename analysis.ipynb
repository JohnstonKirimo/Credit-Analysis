{
 "cells": [
  {
   "cell_type": "code",
   "execution_count": 1,
   "metadata": {},
   "outputs": [],
   "source": [
    "import pandas as pd\n",
    "import numpy as np\n",
    "import matplotlib.pyplot as plt\n",
    "%matplotlib inline"
   ]
  },
  {
   "cell_type": "code",
   "execution_count": 2,
   "metadata": {},
   "outputs": [],
   "source": [
    "merchant_category = pd.read_csv('./data/merchant_category_mapping.csv')\n",
    "merchant_name = pd.read_csv('./data/merchant_name_mapping.csv')\n",
    "perf_data = pd.read_csv('./data/performance_dataset.csv')"
   ]
  },
  {
   "cell_type": "markdown",
   "metadata": {},
   "source": [
    "#### Taking a look at the data"
   ]
  },
  {
   "cell_type": "markdown",
   "metadata": {},
   "source": [
    "##### Overview of the Merchant Category"
   ]
  },
  {
   "cell_type": "code",
   "execution_count": 3,
   "metadata": {},
   "outputs": [
    {
     "data": {
      "text/html": [
       "<div>\n",
       "<style scoped>\n",
       "    .dataframe tbody tr th:only-of-type {\n",
       "        vertical-align: middle;\n",
       "    }\n",
       "\n",
       "    .dataframe tbody tr th {\n",
       "        vertical-align: top;\n",
       "    }\n",
       "\n",
       "    .dataframe thead th {\n",
       "        text-align: right;\n",
       "    }\n",
       "</style>\n",
       "<table border=\"1\" class=\"dataframe\">\n",
       "  <thead>\n",
       "    <tr style=\"text-align: right;\">\n",
       "      <th></th>\n",
       "      <th>category</th>\n",
       "      <th>subcategory</th>\n",
       "      <th>merchant_id</th>\n",
       "    </tr>\n",
       "  </thead>\n",
       "  <tbody>\n",
       "    <tr>\n",
       "      <td>0</td>\n",
       "      <td>WOMENS_FASHION</td>\n",
       "      <td>Women's Clothing Stores - 448120</td>\n",
       "      <td>78986</td>\n",
       "    </tr>\n",
       "    <tr>\n",
       "      <td>1</td>\n",
       "      <td>HOME_FURNISHINGS</td>\n",
       "      <td>Furniture Stores - 442110</td>\n",
       "      <td>54871</td>\n",
       "    </tr>\n",
       "    <tr>\n",
       "      <td>2</td>\n",
       "      <td>NaN</td>\n",
       "      <td>Women's Clothing Stores - 448120</td>\n",
       "      <td>86469</td>\n",
       "    </tr>\n",
       "    <tr>\n",
       "      <td>3</td>\n",
       "      <td>OTHER</td>\n",
       "      <td>Musical Instrument and Supplies Stores - 451140</td>\n",
       "      <td>42719</td>\n",
       "    </tr>\n",
       "    <tr>\n",
       "      <td>4</td>\n",
       "      <td>JEWELRY</td>\n",
       "      <td>Jewelry Stores - 448310</td>\n",
       "      <td>40242</td>\n",
       "    </tr>\n",
       "  </tbody>\n",
       "</table>\n",
       "</div>"
      ],
      "text/plain": [
       "           category                                      subcategory  \\\n",
       "0    WOMENS_FASHION                 Women's Clothing Stores - 448120   \n",
       "1  HOME_FURNISHINGS                        Furniture Stores - 442110   \n",
       "2               NaN                 Women's Clothing Stores - 448120   \n",
       "3             OTHER  Musical Instrument and Supplies Stores - 451140   \n",
       "4           JEWELRY                          Jewelry Stores - 448310   \n",
       "\n",
       "   merchant_id  \n",
       "0        78986  \n",
       "1        54871  \n",
       "2        86469  \n",
       "3        42719  \n",
       "4        40242  "
      ]
     },
     "execution_count": 3,
     "metadata": {},
     "output_type": "execute_result"
    }
   ],
   "source": [
    "merchant_category.head()"
   ]
  },
  {
   "cell_type": "markdown",
   "metadata": {},
   "source": [
    "##### summary info about the merchant_category dataset"
   ]
  },
  {
   "cell_type": "code",
   "execution_count": 4,
   "metadata": {},
   "outputs": [
    {
     "data": {
      "text/plain": [
       "(143, 3)"
      ]
     },
     "execution_count": 4,
     "metadata": {},
     "output_type": "execute_result"
    }
   ],
   "source": [
    "#dimensions\n",
    "merchant_category.shape"
   ]
  },
  {
   "cell_type": "code",
   "execution_count": 5,
   "metadata": {},
   "outputs": [
    {
     "name": "stdout",
     "output_type": "stream",
     "text": [
      "<class 'pandas.core.frame.DataFrame'>\n",
      "RangeIndex: 143 entries, 0 to 142\n",
      "Data columns (total 3 columns):\n",
      "category       141 non-null object\n",
      "subcategory    136 non-null object\n",
      "merchant_id    143 non-null int64\n",
      "dtypes: int64(1), object(2)\n",
      "memory usage: 3.5+ KB\n"
     ]
    }
   ],
   "source": [
    "#get more info on dataset\n",
    "merchant_category.info()"
   ]
  },
  {
   "cell_type": "markdown",
   "metadata": {},
   "source": [
    "##### summary info about the merchant_name dataset"
   ]
  },
  {
   "cell_type": "code",
   "execution_count": 6,
   "metadata": {},
   "outputs": [
    {
     "data": {
      "text/plain": [
       "(143, 2)"
      ]
     },
     "execution_count": 6,
     "metadata": {},
     "output_type": "execute_result"
    }
   ],
   "source": [
    "#dimensions\n",
    "merchant_name.shape"
   ]
  },
  {
   "cell_type": "code",
   "execution_count": 7,
   "metadata": {},
   "outputs": [
    {
     "data": {
      "text/html": [
       "<div>\n",
       "<style scoped>\n",
       "    .dataframe tbody tr th:only-of-type {\n",
       "        vertical-align: middle;\n",
       "    }\n",
       "\n",
       "    .dataframe tbody tr th {\n",
       "        vertical-align: top;\n",
       "    }\n",
       "\n",
       "    .dataframe thead th {\n",
       "        text-align: right;\n",
       "    }\n",
       "</style>\n",
       "<table border=\"1\" class=\"dataframe\">\n",
       "  <thead>\n",
       "    <tr style=\"text-align: right;\">\n",
       "      <th></th>\n",
       "      <th>name</th>\n",
       "      <th>merchant_id</th>\n",
       "    </tr>\n",
       "  </thead>\n",
       "  <tbody>\n",
       "    <tr>\n",
       "      <td>0</td>\n",
       "      <td>UCXMYZC</td>\n",
       "      <td>42733</td>\n",
       "    </tr>\n",
       "    <tr>\n",
       "      <td>1</td>\n",
       "      <td>OQFYEDO</td>\n",
       "      <td>28833</td>\n",
       "    </tr>\n",
       "    <tr>\n",
       "      <td>2</td>\n",
       "      <td>LVMCHQE</td>\n",
       "      <td>83007</td>\n",
       "    </tr>\n",
       "    <tr>\n",
       "      <td>3</td>\n",
       "      <td>QIGSCCQ</td>\n",
       "      <td>66431</td>\n",
       "    </tr>\n",
       "    <tr>\n",
       "      <td>4</td>\n",
       "      <td>DCZPIEU</td>\n",
       "      <td>61453</td>\n",
       "    </tr>\n",
       "  </tbody>\n",
       "</table>\n",
       "</div>"
      ],
      "text/plain": [
       "      name  merchant_id\n",
       "0  UCXMYZC        42733\n",
       "1  OQFYEDO        28833\n",
       "2  LVMCHQE        83007\n",
       "3  QIGSCCQ        66431\n",
       "4  DCZPIEU        61453"
      ]
     },
     "execution_count": 7,
     "metadata": {},
     "output_type": "execute_result"
    }
   ],
   "source": [
    "merchant_name.head()"
   ]
  },
  {
   "cell_type": "markdown",
   "metadata": {},
   "source": [
    "##### summary info about the performance dataset"
   ]
  },
  {
   "cell_type": "code",
   "execution_count": 8,
   "metadata": {},
   "outputs": [
    {
     "data": {
      "text/plain": [
       "(143, 9)"
      ]
     },
     "execution_count": 8,
     "metadata": {},
     "output_type": "execute_result"
    }
   ],
   "source": [
    "perf_data.shape"
   ]
  },
  {
   "cell_type": "code",
   "execution_count": 9,
   "metadata": {},
   "outputs": [
    {
     "data": {
      "text/html": [
       "<div>\n",
       "<style scoped>\n",
       "    .dataframe tbody tr th:only-of-type {\n",
       "        vertical-align: middle;\n",
       "    }\n",
       "\n",
       "    .dataframe tbody tr th {\n",
       "        vertical-align: top;\n",
       "    }\n",
       "\n",
       "    .dataframe thead th {\n",
       "        text-align: right;\n",
       "    }\n",
       "</style>\n",
       "<table border=\"1\" class=\"dataframe\">\n",
       "  <thead>\n",
       "    <tr style=\"text-align: right;\">\n",
       "      <th></th>\n",
       "      <th>merchant_id</th>\n",
       "      <th>actual_repayment_pct</th>\n",
       "      <th>predicted_repayment_pct</th>\n",
       "      <th>num_trxn</th>\n",
       "      <th>avg_auth_amt</th>\n",
       "      <th>avg_loan_amt</th>\n",
       "      <th>avg_fico</th>\n",
       "      <th>avg_term</th>\n",
       "      <th>avg_apr</th>\n",
       "    </tr>\n",
       "  </thead>\n",
       "  <tbody>\n",
       "    <tr>\n",
       "      <td>0</td>\n",
       "      <td>78986</td>\n",
       "      <td>0.927466</td>\n",
       "      <td>0.948425</td>\n",
       "      <td>6331</td>\n",
       "      <td>491.650278</td>\n",
       "      <td>473.727737</td>\n",
       "      <td>643</td>\n",
       "      <td>8</td>\n",
       "      <td>0.251198</td>\n",
       "    </tr>\n",
       "    <tr>\n",
       "      <td>1</td>\n",
       "      <td>54871</td>\n",
       "      <td>0.983798</td>\n",
       "      <td>0.978641</td>\n",
       "      <td>3293</td>\n",
       "      <td>862.996710</td>\n",
       "      <td>862.555109</td>\n",
       "      <td>715</td>\n",
       "      <td>6</td>\n",
       "      <td>0.000000</td>\n",
       "    </tr>\n",
       "    <tr>\n",
       "      <td>2</td>\n",
       "      <td>86469</td>\n",
       "      <td>0.936782</td>\n",
       "      <td>0.965042</td>\n",
       "      <td>2670</td>\n",
       "      <td>636.689936</td>\n",
       "      <td>620.229734</td>\n",
       "      <td>664</td>\n",
       "      <td>8</td>\n",
       "      <td>0.214657</td>\n",
       "    </tr>\n",
       "    <tr>\n",
       "      <td>3</td>\n",
       "      <td>42719</td>\n",
       "      <td>0.961743</td>\n",
       "      <td>0.945634</td>\n",
       "      <td>570</td>\n",
       "      <td>719.714054</td>\n",
       "      <td>692.877934</td>\n",
       "      <td>655</td>\n",
       "      <td>10</td>\n",
       "      <td>0.257577</td>\n",
       "    </tr>\n",
       "    <tr>\n",
       "      <td>4</td>\n",
       "      <td>40242</td>\n",
       "      <td>0.867273</td>\n",
       "      <td>0.902408</td>\n",
       "      <td>317</td>\n",
       "      <td>380.978427</td>\n",
       "      <td>374.832065</td>\n",
       "      <td>626</td>\n",
       "      <td>9</td>\n",
       "      <td>0.160714</td>\n",
       "    </tr>\n",
       "  </tbody>\n",
       "</table>\n",
       "</div>"
      ],
      "text/plain": [
       "   merchant_id  actual_repayment_pct  predicted_repayment_pct  num_trxn  \\\n",
       "0        78986              0.927466                 0.948425      6331   \n",
       "1        54871              0.983798                 0.978641      3293   \n",
       "2        86469              0.936782                 0.965042      2670   \n",
       "3        42719              0.961743                 0.945634       570   \n",
       "4        40242              0.867273                 0.902408       317   \n",
       "\n",
       "   avg_auth_amt  avg_loan_amt  avg_fico  avg_term   avg_apr  \n",
       "0    491.650278    473.727737       643         8  0.251198  \n",
       "1    862.996710    862.555109       715         6  0.000000  \n",
       "2    636.689936    620.229734       664         8  0.214657  \n",
       "3    719.714054    692.877934       655        10  0.257577  \n",
       "4    380.978427    374.832065       626         9  0.160714  "
      ]
     },
     "execution_count": 9,
     "metadata": {},
     "output_type": "execute_result"
    }
   ],
   "source": [
    "perf_data.head()"
   ]
  },
  {
   "cell_type": "markdown",
   "metadata": {},
   "source": [
    "##### Note: Data Cleaning is skipped as there are very few missing records in the category and subcategory columns and the rest of the dataset is quite clean"
   ]
  },
  {
   "cell_type": "markdown",
   "metadata": {},
   "source": [
    "#### Merging the datasets"
   ]
  },
  {
   "cell_type": "code",
   "execution_count": 10,
   "metadata": {},
   "outputs": [
    {
     "data": {
      "text/html": [
       "<div>\n",
       "<style scoped>\n",
       "    .dataframe tbody tr th:only-of-type {\n",
       "        vertical-align: middle;\n",
       "    }\n",
       "\n",
       "    .dataframe tbody tr th {\n",
       "        vertical-align: top;\n",
       "    }\n",
       "\n",
       "    .dataframe thead th {\n",
       "        text-align: right;\n",
       "    }\n",
       "</style>\n",
       "<table border=\"1\" class=\"dataframe\">\n",
       "  <thead>\n",
       "    <tr style=\"text-align: right;\">\n",
       "      <th></th>\n",
       "      <th>category</th>\n",
       "      <th>subcategory</th>\n",
       "      <th>merchant_id</th>\n",
       "      <th>name</th>\n",
       "      <th>actual_repayment_pct</th>\n",
       "      <th>predicted_repayment_pct</th>\n",
       "      <th>num_trxn</th>\n",
       "      <th>avg_auth_amt</th>\n",
       "      <th>avg_loan_amt</th>\n",
       "      <th>avg_fico</th>\n",
       "      <th>avg_term</th>\n",
       "      <th>avg_apr</th>\n",
       "    </tr>\n",
       "  </thead>\n",
       "  <tbody>\n",
       "    <tr>\n",
       "      <td>0</td>\n",
       "      <td>WOMENS_FASHION</td>\n",
       "      <td>Women's Clothing Stores - 448120</td>\n",
       "      <td>78986</td>\n",
       "      <td>MYRIFGH</td>\n",
       "      <td>0.927466</td>\n",
       "      <td>0.948425</td>\n",
       "      <td>6331</td>\n",
       "      <td>491.650278</td>\n",
       "      <td>473.727737</td>\n",
       "      <td>643</td>\n",
       "      <td>8</td>\n",
       "      <td>0.251198</td>\n",
       "    </tr>\n",
       "    <tr>\n",
       "      <td>1</td>\n",
       "      <td>HOME_FURNISHINGS</td>\n",
       "      <td>Furniture Stores - 442110</td>\n",
       "      <td>54871</td>\n",
       "      <td>ZNCIWJS</td>\n",
       "      <td>0.983798</td>\n",
       "      <td>0.978641</td>\n",
       "      <td>3293</td>\n",
       "      <td>862.996710</td>\n",
       "      <td>862.555109</td>\n",
       "      <td>715</td>\n",
       "      <td>6</td>\n",
       "      <td>0.000000</td>\n",
       "    </tr>\n",
       "    <tr>\n",
       "      <td>2</td>\n",
       "      <td>NaN</td>\n",
       "      <td>Women's Clothing Stores - 448120</td>\n",
       "      <td>86469</td>\n",
       "      <td>LYMLCLF</td>\n",
       "      <td>0.936782</td>\n",
       "      <td>0.965042</td>\n",
       "      <td>2670</td>\n",
       "      <td>636.689936</td>\n",
       "      <td>620.229734</td>\n",
       "      <td>664</td>\n",
       "      <td>8</td>\n",
       "      <td>0.214657</td>\n",
       "    </tr>\n",
       "    <tr>\n",
       "      <td>3</td>\n",
       "      <td>OTHER</td>\n",
       "      <td>Musical Instrument and Supplies Stores - 451140</td>\n",
       "      <td>42719</td>\n",
       "      <td>ZBCRDNS</td>\n",
       "      <td>0.961743</td>\n",
       "      <td>0.945634</td>\n",
       "      <td>570</td>\n",
       "      <td>719.714054</td>\n",
       "      <td>692.877934</td>\n",
       "      <td>655</td>\n",
       "      <td>10</td>\n",
       "      <td>0.257577</td>\n",
       "    </tr>\n",
       "    <tr>\n",
       "      <td>4</td>\n",
       "      <td>JEWELRY</td>\n",
       "      <td>Jewelry Stores - 448310</td>\n",
       "      <td>40242</td>\n",
       "      <td>YOZQTHS</td>\n",
       "      <td>0.867273</td>\n",
       "      <td>0.902408</td>\n",
       "      <td>317</td>\n",
       "      <td>380.978427</td>\n",
       "      <td>374.832065</td>\n",
       "      <td>626</td>\n",
       "      <td>9</td>\n",
       "      <td>0.160714</td>\n",
       "    </tr>\n",
       "  </tbody>\n",
       "</table>\n",
       "</div>"
      ],
      "text/plain": [
       "           category                                      subcategory  \\\n",
       "0    WOMENS_FASHION                 Women's Clothing Stores - 448120   \n",
       "1  HOME_FURNISHINGS                        Furniture Stores - 442110   \n",
       "2               NaN                 Women's Clothing Stores - 448120   \n",
       "3             OTHER  Musical Instrument and Supplies Stores - 451140   \n",
       "4           JEWELRY                          Jewelry Stores - 448310   \n",
       "\n",
       "   merchant_id     name  actual_repayment_pct  predicted_repayment_pct  \\\n",
       "0        78986  MYRIFGH              0.927466                 0.948425   \n",
       "1        54871  ZNCIWJS              0.983798                 0.978641   \n",
       "2        86469  LYMLCLF              0.936782                 0.965042   \n",
       "3        42719  ZBCRDNS              0.961743                 0.945634   \n",
       "4        40242  YOZQTHS              0.867273                 0.902408   \n",
       "\n",
       "   num_trxn  avg_auth_amt  avg_loan_amt  avg_fico  avg_term   avg_apr  \n",
       "0      6331    491.650278    473.727737       643         8  0.251198  \n",
       "1      3293    862.996710    862.555109       715         6  0.000000  \n",
       "2      2670    636.689936    620.229734       664         8  0.214657  \n",
       "3       570    719.714054    692.877934       655        10  0.257577  \n",
       "4       317    380.978427    374.832065       626         9  0.160714  "
      ]
     },
     "execution_count": 10,
     "metadata": {},
     "output_type": "execute_result"
    }
   ],
   "source": [
    "merchant_category_name = merchant_category.merge(merchant_name, how='left', on='merchant_id')\n",
    "merchant_category_perf = merchant_category_name.merge(perf_data, how='left', on='merchant_id')\n",
    "merchant_category_perf.head()"
   ]
  },
  {
   "cell_type": "markdown",
   "metadata": {},
   "source": [
    "#### Calculating difference in actual vs. predicted repayment"
   ]
  },
  {
   "cell_type": "code",
   "execution_count": 11,
   "metadata": {},
   "outputs": [
    {
     "data": {
      "text/html": [
       "<div>\n",
       "<style scoped>\n",
       "    .dataframe tbody tr th:only-of-type {\n",
       "        vertical-align: middle;\n",
       "    }\n",
       "\n",
       "    .dataframe tbody tr th {\n",
       "        vertical-align: top;\n",
       "    }\n",
       "\n",
       "    .dataframe thead th {\n",
       "        text-align: right;\n",
       "    }\n",
       "</style>\n",
       "<table border=\"1\" class=\"dataframe\">\n",
       "  <thead>\n",
       "    <tr style=\"text-align: right;\">\n",
       "      <th></th>\n",
       "      <th>category</th>\n",
       "      <th>subcategory</th>\n",
       "      <th>merchant_id</th>\n",
       "      <th>name</th>\n",
       "      <th>actual_repayment_pct</th>\n",
       "      <th>predicted_repayment_pct</th>\n",
       "      <th>num_trxn</th>\n",
       "      <th>avg_auth_amt</th>\n",
       "      <th>avg_loan_amt</th>\n",
       "      <th>avg_fico</th>\n",
       "      <th>avg_term</th>\n",
       "      <th>avg_apr</th>\n",
       "      <th>repayment_diff</th>\n",
       "    </tr>\n",
       "  </thead>\n",
       "  <tbody>\n",
       "    <tr>\n",
       "      <td>97</td>\n",
       "      <td>AUTO_PARTS</td>\n",
       "      <td>Automotive Parts and Accessories Stores - 441310</td>\n",
       "      <td>20531</td>\n",
       "      <td>LHVFRHP</td>\n",
       "      <td>0.705134</td>\n",
       "      <td>0.924981</td>\n",
       "      <td>4</td>\n",
       "      <td>1320.777777</td>\n",
       "      <td>1320.777777</td>\n",
       "      <td>651</td>\n",
       "      <td>11</td>\n",
       "      <td>0.261588</td>\n",
       "      <td>-0.219847</td>\n",
       "    </tr>\n",
       "    <tr>\n",
       "      <td>102</td>\n",
       "      <td>JEWELRY</td>\n",
       "      <td>Jewelry Stores - 448310</td>\n",
       "      <td>99859</td>\n",
       "      <td>UBTIOLN</td>\n",
       "      <td>1.000000</td>\n",
       "      <td>0.945118</td>\n",
       "      <td>3</td>\n",
       "      <td>1559.341666</td>\n",
       "      <td>1392.341666</td>\n",
       "      <td>643</td>\n",
       "      <td>11</td>\n",
       "      <td>0.250869</td>\n",
       "      <td>0.054882</td>\n",
       "    </tr>\n",
       "    <tr>\n",
       "      <td>25</td>\n",
       "      <td>HOME_FURNISHINGS</td>\n",
       "      <td>Furniture Stores - 442110</td>\n",
       "      <td>13615</td>\n",
       "      <td>EQZTMJX</td>\n",
       "      <td>0.965838</td>\n",
       "      <td>0.972367</td>\n",
       "      <td>59</td>\n",
       "      <td>1899.973205</td>\n",
       "      <td>1827.793846</td>\n",
       "      <td>671</td>\n",
       "      <td>10</td>\n",
       "      <td>0.250371</td>\n",
       "      <td>-0.006530</td>\n",
       "    </tr>\n",
       "    <tr>\n",
       "      <td>135</td>\n",
       "      <td>OTHER</td>\n",
       "      <td>Sporting Goods Stores - 451110</td>\n",
       "      <td>23524</td>\n",
       "      <td>OCHXFGA</td>\n",
       "      <td>1.000000</td>\n",
       "      <td>0.966569</td>\n",
       "      <td>1</td>\n",
       "      <td>231.230000</td>\n",
       "      <td>231.230000</td>\n",
       "      <td>768</td>\n",
       "      <td>3</td>\n",
       "      <td>0.272500</td>\n",
       "      <td>0.033431</td>\n",
       "    </tr>\n",
       "    <tr>\n",
       "      <td>84</td>\n",
       "      <td>CONSUMER_ELECTRONICS</td>\n",
       "      <td>Business to Business Electronic Markets - 425110</td>\n",
       "      <td>59868</td>\n",
       "      <td>KSIUHKI</td>\n",
       "      <td>1.000000</td>\n",
       "      <td>0.953410</td>\n",
       "      <td>6</td>\n",
       "      <td>300.000000</td>\n",
       "      <td>300.000000</td>\n",
       "      <td>691</td>\n",
       "      <td>10</td>\n",
       "      <td>0.283333</td>\n",
       "      <td>0.046590</td>\n",
       "    </tr>\n",
       "  </tbody>\n",
       "</table>\n",
       "</div>"
      ],
      "text/plain": [
       "                 category                                       subcategory  \\\n",
       "97             AUTO_PARTS  Automotive Parts and Accessories Stores - 441310   \n",
       "102               JEWELRY                           Jewelry Stores - 448310   \n",
       "25       HOME_FURNISHINGS                         Furniture Stores - 442110   \n",
       "135                 OTHER                    Sporting Goods Stores - 451110   \n",
       "84   CONSUMER_ELECTRONICS  Business to Business Electronic Markets - 425110   \n",
       "\n",
       "     merchant_id     name  actual_repayment_pct  predicted_repayment_pct  \\\n",
       "97         20531  LHVFRHP              0.705134                 0.924981   \n",
       "102        99859  UBTIOLN              1.000000                 0.945118   \n",
       "25         13615  EQZTMJX              0.965838                 0.972367   \n",
       "135        23524  OCHXFGA              1.000000                 0.966569   \n",
       "84         59868  KSIUHKI              1.000000                 0.953410   \n",
       "\n",
       "     num_trxn  avg_auth_amt  avg_loan_amt  avg_fico  avg_term   avg_apr  \\\n",
       "97          4   1320.777777   1320.777777       651        11  0.261588   \n",
       "102         3   1559.341666   1392.341666       643        11  0.250869   \n",
       "25         59   1899.973205   1827.793846       671        10  0.250371   \n",
       "135         1    231.230000    231.230000       768         3  0.272500   \n",
       "84          6    300.000000    300.000000       691        10  0.283333   \n",
       "\n",
       "     repayment_diff  \n",
       "97        -0.219847  \n",
       "102        0.054882  \n",
       "25        -0.006530  \n",
       "135        0.033431  \n",
       "84         0.046590  "
      ]
     },
     "execution_count": 11,
     "metadata": {},
     "output_type": "execute_result"
    }
   ],
   "source": [
    "#get difference between actual and predicted repayment\n",
    "merchant_category_perf['repayment_diff'] = merchant_category_perf['actual_repayment_pct'] - merchant_category_perf['predicted_repayment_pct']\n",
    "merchant_category_perf.sample(5)"
   ]
  },
  {
   "cell_type": "code",
   "execution_count": 12,
   "metadata": {},
   "outputs": [
    {
     "data": {
      "text/plain": [
       "mean   -0.023351\n",
       "Name: repayment_diff, dtype: float64"
      ]
     },
     "execution_count": 12,
     "metadata": {},
     "output_type": "execute_result"
    }
   ],
   "source": [
    "avg_repayment_diff = merchant_category_perf['repayment_diff'].agg(['mean'])\n",
    "avg_repayment_diff"
   ]
  },
  {
   "cell_type": "markdown",
   "metadata": {},
   "source": [
    "#### Checking for correlations"
   ]
  },
  {
   "cell_type": "code",
   "execution_count": 13,
   "metadata": {},
   "outputs": [
    {
     "data": {
      "text/plain": [
       "0.09652786942545571"
      ]
     },
     "execution_count": 13,
     "metadata": {},
     "output_type": "execute_result"
    }
   ],
   "source": [
    "#check correlation between average term and predicted repayment\n",
    "merchant_category_perf['avg_term'].corr(merchant_category_perf['predicted_repayment_pct'])"
   ]
  },
  {
   "cell_type": "code",
   "execution_count": 14,
   "metadata": {},
   "outputs": [
    {
     "data": {
      "text/plain": [
       "0.09676551501582496"
      ]
     },
     "execution_count": 14,
     "metadata": {},
     "output_type": "execute_result"
    }
   ],
   "source": [
    "#correlation between term and actual repayment\n",
    "merchant_category_perf['avg_term'].corr(merchant_category_perf['actual_repayment_pct'])"
   ]
  },
  {
   "cell_type": "code",
   "execution_count": 15,
   "metadata": {},
   "outputs": [
    {
     "data": {
      "text/plain": [
       "<matplotlib.axes._subplots.AxesSubplot at 0x7fd64bbe5310>"
      ]
     },
     "execution_count": 15,
     "metadata": {},
     "output_type": "execute_result"
    },
    {
     "data": {
      "image/png": "[encoded data removed]",
      "text/plain": [
       "<Figure size 648x432 with 2 Axes>"
      ]
     },
     "metadata": {
      "needs_background": "light"
     },
     "output_type": "display_data"
    }
   ],
   "source": [
    "#check correlation between all the variables\n",
    "\n",
    "import seaborn as sns\n",
    "corr = merchant_category_perf.corr()\n",
    "f, ax = plt.subplots(figsize=(9, 6))\n",
    "sns.heatmap(corr, cmap='Blues', annot=True, fmt='.1f', linewidths=.5, ax=ax)"
   ]
  },
  {
   "cell_type": "markdown",
   "metadata": {},
   "source": [
    "#### Calculating difference in amounts of loan applied vs approved"
   ]
  },
  {
   "cell_type": "code",
   "execution_count": 16,
   "metadata": {},
   "outputs": [
    {
     "data": {
      "text/html": [
       "<div>\n",
       "<style scoped>\n",
       "    .dataframe tbody tr th:only-of-type {\n",
       "        vertical-align: middle;\n",
       "    }\n",
       "\n",
       "    .dataframe tbody tr th {\n",
       "        vertical-align: top;\n",
       "    }\n",
       "\n",
       "    .dataframe thead th {\n",
       "        text-align: right;\n",
       "    }\n",
       "</style>\n",
       "<table border=\"1\" class=\"dataframe\">\n",
       "  <thead>\n",
       "    <tr style=\"text-align: right;\">\n",
       "      <th></th>\n",
       "      <th>category</th>\n",
       "      <th>subcategory</th>\n",
       "      <th>merchant_id</th>\n",
       "      <th>name</th>\n",
       "      <th>actual_repayment_pct</th>\n",
       "      <th>predicted_repayment_pct</th>\n",
       "      <th>num_trxn</th>\n",
       "      <th>avg_auth_amt</th>\n",
       "      <th>avg_loan_amt</th>\n",
       "      <th>avg_fico</th>\n",
       "      <th>avg_term</th>\n",
       "      <th>avg_apr</th>\n",
       "      <th>repayment_diff</th>\n",
       "      <th>loan_diff</th>\n",
       "    </tr>\n",
       "  </thead>\n",
       "  <tbody>\n",
       "    <tr>\n",
       "      <td>110</td>\n",
       "      <td>PERSONAL_SERVICE</td>\n",
       "      <td>All Other Miscellaneous Schools and Instructio...</td>\n",
       "      <td>88583</td>\n",
       "      <td>NLQEXCA</td>\n",
       "      <td>1.000000</td>\n",
       "      <td>0.969118</td>\n",
       "      <td>2</td>\n",
       "      <td>3918.000000</td>\n",
       "      <td>3918.000000</td>\n",
       "      <td>708</td>\n",
       "      <td>12</td>\n",
       "      <td>0.300000</td>\n",
       "      <td>0.030882</td>\n",
       "      <td>0.000000</td>\n",
       "    </tr>\n",
       "    <tr>\n",
       "      <td>64</td>\n",
       "      <td>NaN</td>\n",
       "      <td>Electronics Stores - 443142</td>\n",
       "      <td>47147</td>\n",
       "      <td>BUOLYBH</td>\n",
       "      <td>1.000000</td>\n",
       "      <td>0.973467</td>\n",
       "      <td>10</td>\n",
       "      <td>271.865600</td>\n",
       "      <td>271.865600</td>\n",
       "      <td>704</td>\n",
       "      <td>6</td>\n",
       "      <td>0.268394</td>\n",
       "      <td>0.026533</td>\n",
       "      <td>0.000000</td>\n",
       "    </tr>\n",
       "    <tr>\n",
       "      <td>98</td>\n",
       "      <td>OTHER</td>\n",
       "      <td>All Other Health and Personal Care Stores - 44...</td>\n",
       "      <td>99898</td>\n",
       "      <td>LPQTVHA</td>\n",
       "      <td>0.913869</td>\n",
       "      <td>0.948104</td>\n",
       "      <td>4</td>\n",
       "      <td>166.872000</td>\n",
       "      <td>166.872000</td>\n",
       "      <td>686</td>\n",
       "      <td>7</td>\n",
       "      <td>0.254000</td>\n",
       "      <td>-0.034235</td>\n",
       "      <td>0.000000</td>\n",
       "    </tr>\n",
       "    <tr>\n",
       "      <td>92</td>\n",
       "      <td>WOMENS_FASHION</td>\n",
       "      <td>Women's Clothing Stores - 448120</td>\n",
       "      <td>63702</td>\n",
       "      <td>NDDVOCX</td>\n",
       "      <td>1.000000</td>\n",
       "      <td>0.941055</td>\n",
       "      <td>4</td>\n",
       "      <td>1319.387894</td>\n",
       "      <td>1319.387894</td>\n",
       "      <td>675</td>\n",
       "      <td>9</td>\n",
       "      <td>0.255425</td>\n",
       "      <td>0.058945</td>\n",
       "      <td>0.000000</td>\n",
       "    </tr>\n",
       "    <tr>\n",
       "      <td>51</td>\n",
       "      <td>WOMENS_FASHION</td>\n",
       "      <td>Luggage and Leather Goods Stores - 448320</td>\n",
       "      <td>12532</td>\n",
       "      <td>UTNOWGK</td>\n",
       "      <td>1.000000</td>\n",
       "      <td>0.960569</td>\n",
       "      <td>15</td>\n",
       "      <td>1288.755517</td>\n",
       "      <td>1287.422068</td>\n",
       "      <td>691</td>\n",
       "      <td>8</td>\n",
       "      <td>0.231682</td>\n",
       "      <td>0.039431</td>\n",
       "      <td>1.333449</td>\n",
       "    </tr>\n",
       "  </tbody>\n",
       "</table>\n",
       "</div>"
      ],
      "text/plain": [
       "             category                                        subcategory  \\\n",
       "110  PERSONAL_SERVICE  All Other Miscellaneous Schools and Instructio...   \n",
       "64                NaN                        Electronics Stores - 443142   \n",
       "98              OTHER  All Other Health and Personal Care Stores - 44...   \n",
       "92     WOMENS_FASHION                   Women's Clothing Stores - 448120   \n",
       "51     WOMENS_FASHION          Luggage and Leather Goods Stores - 448320   \n",
       "\n",
       "     merchant_id     name  actual_repayment_pct  predicted_repayment_pct  \\\n",
       "110        88583  NLQEXCA              1.000000                 0.969118   \n",
       "64         47147  BUOLYBH              1.000000                 0.973467   \n",
       "98         99898  LPQTVHA              0.913869                 0.948104   \n",
       "92         63702  NDDVOCX              1.000000                 0.941055   \n",
       "51         12532  UTNOWGK              1.000000                 0.960569   \n",
       "\n",
       "     num_trxn  avg_auth_amt  avg_loan_amt  avg_fico  avg_term   avg_apr  \\\n",
       "110         2   3918.000000   3918.000000       708        12  0.300000   \n",
       "64         10    271.865600    271.865600       704         6  0.268394   \n",
       "98          4    166.872000    166.872000       686         7  0.254000   \n",
       "92          4   1319.387894   1319.387894       675         9  0.255425   \n",
       "51         15   1288.755517   1287.422068       691         8  0.231682   \n",
       "\n",
       "     repayment_diff  loan_diff  \n",
       "110        0.030882   0.000000  \n",
       "64         0.026533   0.000000  \n",
       "98        -0.034235   0.000000  \n",
       "92         0.058945   0.000000  \n",
       "51         0.039431   1.333449  "
      ]
     },
     "execution_count": 16,
     "metadata": {},
     "output_type": "execute_result"
    }
   ],
   "source": [
    "merchant_category_perf['loan_diff'] = merchant_category_perf['avg_auth_amt'] - merchant_category_perf['avg_loan_amt']\n",
    "merchant_category_perf.sample(5)"
   ]
  },
  {
   "cell_type": "code",
   "execution_count": 17,
   "metadata": {},
   "outputs": [
    {
     "data": {
      "text/plain": [
       "72.5594111118881"
      ]
     },
     "execution_count": 17,
     "metadata": {},
     "output_type": "execute_result"
    }
   ],
   "source": [
    "#Get avg loan difference\n",
    "merchant_category_perf.loan_diff.mean()"
   ]
  },
  {
   "cell_type": "markdown",
   "metadata": {},
   "source": [
    "#### Correlation between loan_diff and average fico score"
   ]
  },
  {
   "cell_type": "code",
   "execution_count": 18,
   "metadata": {},
   "outputs": [
    {
     "data": {
      "image/png": "[encoded data removed]",
      "text/plain": [
       "<Figure size 432x288 with 1 Axes>"
      ]
     },
     "metadata": {
      "needs_background": "light"
     },
     "output_type": "display_data"
    }
   ],
   "source": [
    "score_and_loan = merchant_category_perf.plot(x='avg_fico', y='loan_diff', style='rx')"
   ]
  },
  {
   "cell_type": "code",
   "execution_count": 19,
   "metadata": {},
   "outputs": [
    {
     "data": {
      "text/html": [
       "<div>\n",
       "<style scoped>\n",
       "    .dataframe tbody tr th:only-of-type {\n",
       "        vertical-align: middle;\n",
       "    }\n",
       "\n",
       "    .dataframe tbody tr th {\n",
       "        vertical-align: top;\n",
       "    }\n",
       "\n",
       "    .dataframe thead th {\n",
       "        text-align: right;\n",
       "    }\n",
       "</style>\n",
       "<table border=\"1\" class=\"dataframe\">\n",
       "  <thead>\n",
       "    <tr style=\"text-align: right;\">\n",
       "      <th></th>\n",
       "      <th>actual_repayment_pct</th>\n",
       "      <th>predicted_repayment_pct</th>\n",
       "      <th>num_trxn</th>\n",
       "      <th>avg_auth_amt</th>\n",
       "      <th>avg_loan_amt</th>\n",
       "      <th>avg_fico</th>\n",
       "      <th>avg_term</th>\n",
       "      <th>avg_apr</th>\n",
       "    </tr>\n",
       "  </thead>\n",
       "  <tbody>\n",
       "    <tr>\n",
       "      <td>min</td>\n",
       "      <td>0.000000</td>\n",
       "      <td>0.707895</td>\n",
       "      <td>1.000000</td>\n",
       "      <td>79.840000</td>\n",
       "      <td>79.840000</td>\n",
       "      <td>560.000000</td>\n",
       "      <td>3.000000</td>\n",
       "      <td>0.000000</td>\n",
       "    </tr>\n",
       "    <tr>\n",
       "      <td>max</td>\n",
       "      <td>1.000000</td>\n",
       "      <td>0.989278</td>\n",
       "      <td>6331.000000</td>\n",
       "      <td>8673.500000</td>\n",
       "      <td>6928.500000</td>\n",
       "      <td>768.000000</td>\n",
       "      <td>12.000000</td>\n",
       "      <td>0.300000</td>\n",
       "    </tr>\n",
       "    <tr>\n",
       "      <td>mean</td>\n",
       "      <td>0.915635</td>\n",
       "      <td>0.938986</td>\n",
       "      <td>120.258741</td>\n",
       "      <td>1127.141393</td>\n",
       "      <td>1054.581982</td>\n",
       "      <td>659.601399</td>\n",
       "      <td>9.244755</td>\n",
       "      <td>0.232849</td>\n",
       "    </tr>\n",
       "    <tr>\n",
       "      <td>median</td>\n",
       "      <td>0.976093</td>\n",
       "      <td>0.949765</td>\n",
       "      <td>8.000000</td>\n",
       "      <td>843.750000</td>\n",
       "      <td>823.333333</td>\n",
       "      <td>658.000000</td>\n",
       "      <td>9.000000</td>\n",
       "      <td>0.250000</td>\n",
       "    </tr>\n",
       "    <tr>\n",
       "      <td>std</td>\n",
       "      <td>0.166605</td>\n",
       "      <td>0.042875</td>\n",
       "      <td>633.062161</td>\n",
       "      <td>1138.127493</td>\n",
       "      <td>1017.087293</td>\n",
       "      <td>33.496508</td>\n",
       "      <td>1.862214</td>\n",
       "      <td>0.064984</td>\n",
       "    </tr>\n",
       "  </tbody>\n",
       "</table>\n",
       "</div>"
      ],
      "text/plain": [
       "        actual_repayment_pct  predicted_repayment_pct     num_trxn  \\\n",
       "min                 0.000000                 0.707895     1.000000   \n",
       "max                 1.000000                 0.989278  6331.000000   \n",
       "mean                0.915635                 0.938986   120.258741   \n",
       "median              0.976093                 0.949765     8.000000   \n",
       "std                 0.166605                 0.042875   633.062161   \n",
       "\n",
       "        avg_auth_amt  avg_loan_amt    avg_fico   avg_term   avg_apr  \n",
       "min        79.840000     79.840000  560.000000   3.000000  0.000000  \n",
       "max      8673.500000   6928.500000  768.000000  12.000000  0.300000  \n",
       "mean     1127.141393   1054.581982  659.601399   9.244755  0.232849  \n",
       "median    843.750000    823.333333  658.000000   9.000000  0.250000  \n",
       "std      1138.127493   1017.087293   33.496508   1.862214  0.064984  "
      ]
     },
     "execution_count": 19,
     "metadata": {},
     "output_type": "execute_result"
    }
   ],
   "source": [
    "#some summary statistics of some key variables\n",
    "merchant_category_perf[['actual_repayment_pct','predicted_repayment_pct','num_trxn','avg_auth_amt','avg_loan_amt','avg_fico','avg_term','avg_apr']].agg(['min','max','mean','median','std'])"
   ]
  },
  {
   "cell_type": "markdown",
   "metadata": {},
   "source": [
    "#### Investigating where actual repayment exceeds predicted"
   ]
  },
  {
   "cell_type": "code",
   "execution_count": 20,
   "metadata": {},
   "outputs": [
    {
     "data": {
      "text/html": [
       "<div>\n",
       "<style scoped>\n",
       "    .dataframe tbody tr th:only-of-type {\n",
       "        vertical-align: middle;\n",
       "    }\n",
       "\n",
       "    .dataframe tbody tr th {\n",
       "        vertical-align: top;\n",
       "    }\n",
       "\n",
       "    .dataframe thead th {\n",
       "        text-align: right;\n",
       "    }\n",
       "</style>\n",
       "<table border=\"1\" class=\"dataframe\">\n",
       "  <thead>\n",
       "    <tr style=\"text-align: right;\">\n",
       "      <th></th>\n",
       "      <th>category</th>\n",
       "      <th>subcategory</th>\n",
       "      <th>merchant_id</th>\n",
       "      <th>name</th>\n",
       "      <th>actual_repayment_pct</th>\n",
       "      <th>predicted_repayment_pct</th>\n",
       "      <th>num_trxn</th>\n",
       "      <th>avg_auth_amt</th>\n",
       "      <th>avg_loan_amt</th>\n",
       "      <th>avg_fico</th>\n",
       "      <th>avg_term</th>\n",
       "      <th>avg_apr</th>\n",
       "      <th>repayment_diff</th>\n",
       "      <th>loan_diff</th>\n",
       "    </tr>\n",
       "  </thead>\n",
       "  <tbody>\n",
       "    <tr>\n",
       "      <td>1</td>\n",
       "      <td>HOME_FURNISHINGS</td>\n",
       "      <td>Furniture Stores - 442110</td>\n",
       "      <td>54871</td>\n",
       "      <td>ZNCIWJS</td>\n",
       "      <td>0.983798</td>\n",
       "      <td>0.978641</td>\n",
       "      <td>3293</td>\n",
       "      <td>862.996710</td>\n",
       "      <td>862.555109</td>\n",
       "      <td>715</td>\n",
       "      <td>6</td>\n",
       "      <td>0.000000</td>\n",
       "      <td>0.005157</td>\n",
       "      <td>0.441601</td>\n",
       "    </tr>\n",
       "    <tr>\n",
       "      <td>3</td>\n",
       "      <td>OTHER</td>\n",
       "      <td>Musical Instrument and Supplies Stores - 451140</td>\n",
       "      <td>42719</td>\n",
       "      <td>ZBCRDNS</td>\n",
       "      <td>0.961743</td>\n",
       "      <td>0.945634</td>\n",
       "      <td>570</td>\n",
       "      <td>719.714054</td>\n",
       "      <td>692.877934</td>\n",
       "      <td>655</td>\n",
       "      <td>10</td>\n",
       "      <td>0.257577</td>\n",
       "      <td>0.016109</td>\n",
       "      <td>26.836120</td>\n",
       "    </tr>\n",
       "    <tr>\n",
       "      <td>6</td>\n",
       "      <td>CONSUMER_ELECTRONICS</td>\n",
       "      <td>Elementary and Secondary Schools - 611110</td>\n",
       "      <td>25861</td>\n",
       "      <td>FUGCFOU</td>\n",
       "      <td>0.899819</td>\n",
       "      <td>0.884479</td>\n",
       "      <td>248</td>\n",
       "      <td>271.239637</td>\n",
       "      <td>265.612228</td>\n",
       "      <td>611</td>\n",
       "      <td>9</td>\n",
       "      <td>0.283420</td>\n",
       "      <td>0.015340</td>\n",
       "      <td>5.627409</td>\n",
       "    </tr>\n",
       "  </tbody>\n",
       "</table>\n",
       "</div>"
      ],
      "text/plain": [
       "               category                                      subcategory  \\\n",
       "1      HOME_FURNISHINGS                        Furniture Stores - 442110   \n",
       "3                 OTHER  Musical Instrument and Supplies Stores - 451140   \n",
       "6  CONSUMER_ELECTRONICS        Elementary and Secondary Schools - 611110   \n",
       "\n",
       "   merchant_id     name  actual_repayment_pct  predicted_repayment_pct  \\\n",
       "1        54871  ZNCIWJS              0.983798                 0.978641   \n",
       "3        42719  ZBCRDNS              0.961743                 0.945634   \n",
       "6        25861  FUGCFOU              0.899819                 0.884479   \n",
       "\n",
       "   num_trxn  avg_auth_amt  avg_loan_amt  avg_fico  avg_term   avg_apr  \\\n",
       "1      3293    862.996710    862.555109       715         6  0.000000   \n",
       "3       570    719.714054    692.877934       655        10  0.257577   \n",
       "6       248    271.239637    265.612228       611         9  0.283420   \n",
       "\n",
       "   repayment_diff  loan_diff  \n",
       "1        0.005157   0.441601  \n",
       "3        0.016109  26.836120  \n",
       "6        0.015340   5.627409  "
      ]
     },
     "execution_count": 20,
     "metadata": {},
     "output_type": "execute_result"
    }
   ],
   "source": [
    "#where does actual repayment exceeds predicted?\n",
    "pay_diff = merchant_category_perf[merchant_category_perf.actual_repayment_pct >= merchant_category_perf.predicted_repayment_pct]\n",
    "pay_diff.head(3)"
   ]
  },
  {
   "cell_type": "code",
   "execution_count": 21,
   "metadata": {},
   "outputs": [
    {
     "data": {
      "text/plain": [
       "OTHER                   0.471264\n",
       "HOME_FURNISHINGS        0.183908\n",
       "JEWELRY                 0.172414\n",
       "CONSUMER_ELECTRONICS    0.080460\n",
       "WOMENS_FASHION          0.034483\n",
       "PERSONAL_SERVICE        0.022989\n",
       "AUTO_PARTS              0.022989\n",
       "MENS_FASHION            0.011494\n",
       "Name: category, dtype: float64"
      ]
     },
     "execution_count": 21,
     "metadata": {},
     "output_type": "execute_result"
    }
   ],
   "source": [
    "pay_diff.category.value_counts(normalize=True)"
   ]
  },
  {
   "cell_type": "markdown",
   "metadata": {},
   "source": [
    "#### Investigating categories where actual repayment is less than predicted"
   ]
  },
  {
   "cell_type": "code",
   "execution_count": 22,
   "metadata": {},
   "outputs": [
    {
     "data": {
      "text/plain": [
       "OTHER                   0.555556\n",
       "JEWELRY                 0.111111\n",
       "HOME_FURNISHINGS        0.092593\n",
       "WOMENS_FASHION          0.092593\n",
       "CONSUMER_ELECTRONICS    0.074074\n",
       "AUTO_PARTS              0.055556\n",
       "BEAUTY                  0.018519\n",
       "Name: category, dtype: float64"
      ]
     },
     "execution_count": 22,
     "metadata": {},
     "output_type": "execute_result"
    }
   ],
   "source": [
    "#where does actual repayment exceeds predicted?\n",
    "merchant_category_perf[merchant_category_perf.actual_repayment_pct < merchant_category_perf.predicted_repayment_pct].category.value_counts(normalize=True)"
   ]
  },
  {
   "cell_type": "markdown",
   "metadata": {},
   "source": [
    "#### Note:\n",
    "- No noticeable difference in distribution of categories where actual repayment exceeds predicted repayment vs where predicted exceeds actual \n",
    "- Therefore, let's look at distribution of overall volume by category\n",
    "- Categories with higher volume could imply higher demand and for those with low volume, low demand\n",
    "- The business could increase loan incentives for categories or subcategories with higher loan demand as well as categories struggling with low demand"
   ]
  },
  {
   "cell_type": "code",
   "execution_count": 23,
   "metadata": {},
   "outputs": [
    {
     "data": {
      "text/plain": [
       "OTHER                   0.503546\n",
       "HOME_FURNISHINGS        0.148936\n",
       "JEWELRY                 0.148936\n",
       "CONSUMER_ELECTRONICS    0.078014\n",
       "WOMENS_FASHION          0.056738\n",
       "AUTO_PARTS              0.035461\n",
       "PERSONAL_SERVICE        0.014184\n",
       "BEAUTY                  0.007092\n",
       "MENS_FASHION            0.007092\n",
       "Name: category, dtype: float64"
      ]
     },
     "execution_count": 23,
     "metadata": {},
     "output_type": "execute_result"
    }
   ],
   "source": [
    "#distribution of all categories by volume\n",
    "merchant_category_perf.category.value_counts(normalize = True)"
   ]
  },
  {
   "cell_type": "code",
   "execution_count": 24,
   "metadata": {},
   "outputs": [
    {
     "data": {
      "image/png": "[encoded data removed]",
      "text/plain": [
       "<Figure size 432x288 with 1 Axes>"
      ]
     },
     "metadata": {
      "needs_background": "light"
     },
     "output_type": "display_data"
    }
   ],
   "source": [
    "merchant_category_perf.category.value_counts(normalize = True).plot(kind='bar')\n",
    "plt.show()"
   ]
  },
  {
   "cell_type": "code",
   "execution_count": 25,
   "metadata": {},
   "outputs": [
    {
     "data": {
      "text/plain": [
       "Furniture Stores - 442110                                                     0.220930\n",
       "All Other Health and Personal Care Stores - 446199                            0.162791\n",
       "Musical Instrument and Supplies Stores - 451140                               0.116279\n",
       "Sporting Goods Stores - 451110                                                0.116279\n",
       "Jewelry Stores - 448310                                                       0.069767\n",
       "Electronics Stores - 443142                                                   0.058140\n",
       "Clothing Accessories Stores - 448150                                          0.034884\n",
       "Hobby, Toy, and Game Stores - 451120                                          0.034884\n",
       "Service Establishment Equipment and Supplies Merchant Wholesalers - 423850    0.023256\n",
       "Security Systems Services (except Locksmiths) - 561621                        0.023256\n",
       "All Other Miscellaneous Schools and Instruction - 611699                      0.011628\n",
       "Electrical Contractors and Other Wiring Installation Contractors - 238210     0.011628\n",
       "Hardware Stores - 444130                                                      0.011628\n",
       "Wireless Telecommunications Carriers (except Satellite) - 517210              0.011628\n",
       "Gift, Novelty, and Souvenir Stores - 453220                                   0.011628\n",
       "Automotive Parts and Accessories Stores - 441310                              0.011628\n",
       "Business to Business Electronic Markets - 425110                              0.011628\n",
       "Professional and Management Development Training - 611430                     0.011628\n",
       "Shoe Stores - 448210                                                          0.011628\n",
       "Pet and Pet Supplies Stores - 453910                                          0.011628\n",
       "Other Building Material Dealers - 444190                                      0.011628\n",
       "Motorcycle, ATV, and All Other Motor Vehicle Dealers - 441228                 0.011628\n",
       "Name: subcategory, dtype: float64"
      ]
     },
     "execution_count": 25,
     "metadata": {},
     "output_type": "execute_result"
    }
   ],
   "source": [
    "top_sub_cat = merchant_category_perf.loc[merchant_category_perf.category.isin(['OTHER','JEWELERY','HOME_FURNISHINGS'])]\n",
    "top_sub_cat.subcategory.value_counts(normalize=True)"
   ]
  },
  {
   "cell_type": "code",
   "execution_count": 26,
   "metadata": {},
   "outputs": [
    {
     "data": {
      "image/png": "[encoded data removed]",
      "text/plain": [
       "<Figure size 432x288 with 1 Axes>"
      ]
     },
     "metadata": {
      "needs_background": "light"
     },
     "output_type": "display_data"
    }
   ],
   "source": [
    "top_sub_cat.subcategory.value_counts(normalize=True).plot(kind='bar')\n",
    "plt.show()"
   ]
  },
  {
   "cell_type": "markdown",
   "metadata": {},
   "source": [
    "#### Note:\n",
    "- Of the top three categories, only 4 subcategories make up 60% of the entire volume"
   ]
  },
  {
   "cell_type": "markdown",
   "metadata": {},
   "source": [
    "#### Investigating categories with lowest volume"
   ]
  },
  {
   "cell_type": "code",
   "execution_count": 27,
   "metadata": {},
   "outputs": [
    {
     "data": {
      "text/plain": [
       "Cosmetics, Beauty Supplies, and Perfume Stores - 446120    0.5\n",
       "Clothing Accessories Stores - 448150                       0.5\n",
       "Name: subcategory, dtype: float64"
      ]
     },
     "execution_count": 27,
     "metadata": {},
     "output_type": "execute_result"
    }
   ],
   "source": [
    "low_sub_cat = merchant_category_perf.loc[merchant_category_perf.category.isin(['BEAUTY','MENS_FASHION'])]\n",
    "low_sub_cat.subcategory.value_counts(normalize=True)"
   ]
  },
  {
   "cell_type": "markdown",
   "metadata": {},
   "source": [
    "#### Note: \n",
    "- In the categories with the lowest volume, there are only two subcategories, with equal distribution\n",
    "- The business could drop these two categories\n",
    "- Alternatively, the business could try and boost volume in these struggling categories, as there are only two of them"
   ]
  },
  {
   "cell_type": "markdown",
   "metadata": {},
   "source": [
    "#### Investigating term of loan"
   ]
  },
  {
   "cell_type": "code",
   "execution_count": 28,
   "metadata": {},
   "outputs": [
    {
     "data": {
      "text/plain": [
       "min        3.000000\n",
       "mean       9.244755\n",
       "median     9.000000\n",
       "max       12.000000\n",
       "std        1.862214\n",
       "Name: avg_term, dtype: float64"
      ]
     },
     "execution_count": 28,
     "metadata": {},
     "output_type": "execute_result"
    }
   ],
   "source": [
    "merchant_category_perf.avg_term.agg(['min','mean','median','max','std'])"
   ]
  },
  {
   "cell_type": "code",
   "execution_count": 29,
   "metadata": {},
   "outputs": [
    {
     "data": {
      "text/plain": [
       "OTHER                   0.455882\n",
       "HOME_FURNISHINGS        0.220588\n",
       "JEWELRY                 0.176471\n",
       "AUTO_PARTS              0.058824\n",
       "CONSUMER_ELECTRONICS    0.044118\n",
       "WOMENS_FASHION          0.029412\n",
       "PERSONAL_SERVICE        0.014706\n",
       "Name: category, dtype: float64"
      ]
     },
     "execution_count": 29,
     "metadata": {},
     "output_type": "execute_result"
    }
   ],
   "source": [
    "#Investigating categories where average term is higher than mean\n",
    "\n",
    "long_loans = merchant_category_perf[merchant_category_perf.avg_term >9.24]\n",
    "long_loans.category.value_counts(normalize=True)"
   ]
  },
  {
   "cell_type": "markdown",
   "metadata": {},
   "source": [
    "#### Do merchants with longer term loans have a higher repayment than those with short term loans?"
   ]
  },
  {
   "cell_type": "code",
   "execution_count": 30,
   "metadata": {},
   "outputs": [
    {
     "data": {
      "text/plain": [
       "0.93"
      ]
     },
     "execution_count": 30,
     "metadata": {},
     "output_type": "execute_result"
    }
   ],
   "source": [
    "round(long_loans.actual_repayment_pct.mean(),2)"
   ]
  },
  {
   "cell_type": "code",
   "execution_count": 31,
   "metadata": {},
   "outputs": [
    {
     "data": {
      "text/plain": [
       "0.9"
      ]
     },
     "execution_count": 31,
     "metadata": {},
     "output_type": "execute_result"
    }
   ],
   "source": [
    "short_loans = merchant_category_perf[merchant_category_perf.avg_term <9.24]\n",
    "round(short_loans.actual_repayment_pct.mean(),2)"
   ]
  },
  {
   "cell_type": "markdown",
   "metadata": {},
   "source": [
    "#### Note: \n",
    "- Merchants who take long term loans have a 3% higher average repayment rate than those with short term loans"
   ]
  }
 ],
 "metadata": {
  "kernelspec": {
   "display_name": "Python 3",
   "language": "python",
   "name": "python3"
  },
  "language_info": {
   "codemirror_mode": {
    "name": "ipython",
    "version": 3
   },
   "file_extension": ".py",
   "mimetype": "text/x-python",
   "name": "python",
   "nbconvert_exporter": "python",
   "pygments_lexer": "ipython3",
   "version": "3.7.4"
  }
 },
 "nbformat": 4,
 "nbformat_minor": 4
}
